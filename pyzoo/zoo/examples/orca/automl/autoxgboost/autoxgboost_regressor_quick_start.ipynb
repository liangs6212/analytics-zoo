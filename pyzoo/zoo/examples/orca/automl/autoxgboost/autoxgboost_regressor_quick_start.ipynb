{
 "cells": [
  {
   "cell_type": "markdown",
   "id": "b75f855e",
   "metadata": {},
   "source": [
    "## Step 0:Prepare environment"
   ]
  },
  {
   "cell_type": "code",
   "execution_count": 2,
   "id": "cc4be438",
   "metadata": {},
   "outputs": [],
   "source": [
    "# !ls ~/analytics-zoo/pyzoo/dev/"
   ]
  },
  {
   "cell_type": "code",
   "execution_count": 3,
   "id": "cecab6d2",
   "metadata": {},
   "outputs": [],
   "source": [
    "# !bash ~/analytics-zoo/pyzoo/dev/prepare_env.sh"
   ]
  },
  {
   "cell_type": "code",
   "execution_count": 1,
   "id": "80345814",
   "metadata": {},
   "outputs": [],
   "source": [
    "# conda create -n zoo python=3.7\n",
    "# conda activate zoo\n",
    "# pip install analytics-zoo\n",
    "# pip install scikit-optimize"
   ]
  },
  {
   "cell_type": "markdown",
   "id": "8be6066b",
   "metadata": {},
   "source": [
    "## Step 1:Init Orca Context"
   ]
  },
  {
   "cell_type": "code",
   "execution_count": 4,
   "id": "439f8a9e",
   "metadata": {},
   "outputs": [],
   "source": [
    "from zoo.ray import RayContext\n",
    "from zoo import init_spark_on_local,init_spark_on_yarn"
   ]
  },
  {
   "cell_type": "code",
   "execution_count": 5,
   "id": "3c100da6",
   "metadata": {},
   "outputs": [
    {
     "output_type": "stream",
     "name": "stdout",
     "text": [
      "Current pyspark location is : /home/zehuan/spark/python/lib/pyspark.zip/pyspark/__init__.py\n",
      "Start to getOrCreate SparkContext\n",
      "pyspark_submit_args is:  --driver-class-path /home/zehuan/anaconda3/envs/automl/lib/python3.6/site-packages/zoo/share/lib/analytics-zoo-bigdl_0.12.1-spark_2.4.3-0.10.0-SNAPSHOT-jar-with-dependencies.jar:/home/zehuan/analytics-zoo/zoo/target/analytics-zoo-bigdl_0.12.2-spark_2.4.3-0.10.0-SNAPSHOT-jar-with-dependencies.jar pyspark-shell \n",
      "Successfully got a SparkContext\n",
      "2021-04-28 16:09:36,705\tINFO services.py:1174 -- View the Ray dashboard at \u001b[1m\u001b[32mhttp://10.239.44.145:8265\u001b[39m\u001b[22m\n",
      "{'node_ip_address': '10.239.44.145', 'raylet_ip_address': '10.239.44.145', 'redis_address': '10.239.44.145:47599', 'object_store_address': '/tmp/ray/session_2021-04-28_16-09-36_145303_1106488/sockets/plasma_store', 'raylet_socket_name': '/tmp/ray/session_2021-04-28_16-09-36_145303_1106488/sockets/raylet', 'webui_url': '10.239.44.145:8265', 'session_dir': '/tmp/ray/session_2021-04-28_16-09-36_145303_1106488', 'metrics_export_port': 59818, 'node_id': '9d91b7c8e799fbae1b4c6b3c663f893c8a33171be2abf403e9ba2339'}\n"
     ]
    },
    {
     "output_type": "execute_result",
     "data": {
      "text/plain": [
       "{'node_ip_address': '10.239.44.145',\n",
       " 'raylet_ip_address': '10.239.44.145',\n",
       " 'redis_address': '10.239.44.145:47599',\n",
       " 'object_store_address': '/tmp/ray/session_2021-04-28_16-09-36_145303_1106488/sockets/plasma_store',\n",
       " 'raylet_socket_name': '/tmp/ray/session_2021-04-28_16-09-36_145303_1106488/sockets/raylet',\n",
       " 'webui_url': '10.239.44.145:8265',\n",
       " 'session_dir': '/tmp/ray/session_2021-04-28_16-09-36_145303_1106488',\n",
       " 'metrics_export_port': 59818,\n",
       " 'node_id': '9d91b7c8e799fbae1b4c6b3c663f893c8a33171be2abf403e9ba2339'}"
      ]
     },
     "metadata": {},
     "execution_count": 5
    }
   ],
   "source": [
    "hadoop_conf = 'local'\n",
    "if hadoop_conf == 'yarn':\n",
    "    sc = init_spark_on_yarn(hadoop_conf='yarn',conda_name='zoo',num_executors=2,executor_cores=4)\n",
    "elif hadoop_conf == 'local':\n",
    "    sc = init_spark_on_local(cores='*')\n",
    "ray_ctx = RayContext(sc=sc)\n",
    "ray_ctx.init()"
   ]
  },
  {
   "cell_type": "markdown",
   "id": "a4c406dd",
   "metadata": {},
   "source": [
    "## step 2: Perpare data"
   ]
  },
  {
   "cell_type": "code",
   "execution_count": 6,
   "id": "53efa49e",
   "metadata": {},
   "outputs": [],
   "source": [
    "import os\n",
    "from sklearn.model_selection import train_test_split\n",
    "import pandas as pd"
   ]
  },
  {
   "cell_type": "code",
   "execution_count": 7,
   "id": "0866d748",
   "metadata": {},
   "outputs": [],
   "source": [
    "df = pd.read_csv('./incd.csv',encoding='latin-1')\n",
    "feature_cols = [\"FIPS\", \"Lower 95% Confidence Interval\", \"Upper 95% Confidence Interval\",\n",
    "                \"Average Annual Count\", \"Recent 5-Year Trend\"]\n",
    "target_col = \"Age-Adjusted Incidence Rate\"\n",
    "train_df, val_df = train_test_split(df, test_size=0.2, random_state=2)\n",
    "config = {'random_state': 2,\n",
    "              'min_child_weight': 3,\n",
    "              'n_jobs': 2}"
   ]
  },
  {
   "cell_type": "code",
   "execution_count": null,
   "id": "f6326c05",
   "metadata": {},
   "outputs": [],
   "source": []
  },
  {
   "cell_type": "markdown",
   "id": "a8186bf0",
   "metadata": {},
   "source": [
    "## Step 3: Init AutoXGBoost"
   ]
  },
  {
   "cell_type": "code",
   "execution_count": 8,
   "id": "b308a1ca",
   "metadata": {},
   "outputs": [],
   "source": [
    "from zoo.orca.automl.xgboost import AutoXGBoost\n",
    "from zoo.zouwu.config.recipe import XgbRegressorGridRandomRecipe\n",
    "# from zoo.orca.automl.autoxgboost.AutoXGBoostRegressor import "
   ]
  },
  {
   "cell_type": "code",
   "execution_count": 9,
   "id": "d7a1f1cd",
   "metadata": {},
   "outputs": [],
   "source": [
    "num_rand_samples = 10\n",
    "n_estimators_range = (800, 1000)\n",
    "max_depth_range = (10, 15)\n",
    "lr = (1e-4, 1e-1)\n",
    "min_child_weight = [1, 2, 3]\n",
    "\n",
    "recipe = XgbRegressorGridRandomRecipe(num_rand_samples=num_rand_samples,\n",
    "                                              n_estimators=list(n_estimators_range),\n",
    "                                              max_depth=list(max_depth_range),\n",
    "                                              lr=lr,\n",
    "                                              min_child_weight=min_child_weight\n",
    "                                              )\n",
    "\n",
    "estimator = AutoXGBoost().regressor(feature_cols=feature_cols,\n",
    "                                            target_col=target_col,\n",
    "                                            config=config\n",
    "                                            )"
   ]
  },
  {
   "cell_type": "markdown",
   "id": "c6dc4e48",
   "metadata": {},
   "source": [
    "## Setp 4: fit data"
   ]
  },
  {
   "cell_type": "code",
   "execution_count": 10,
   "id": "e16ba7f8",
   "metadata": {
    "tags": [
     "outputPrepend"
    ]
   },
   "outputs": [
    {
     "output_type": "display_data",
     "data": {
      "text/plain": "<IPython.core.display.HTML object>",
      "text/html": "== Status ==<br>Memory usage on this node: 2.9/15.5 GiB<br>Using FIFO scheduling algorithm.<br>Resources requested: 0/8 CPUs, 0/0 GPUs, 0.0/8.54 GiB heap, 0.0/2.93 GiB objects<br>Current best trial: 1cd6c_00005 with rmse=1.052206 and parameters={'model': 'XGBRegressor', 'imputation': 'LastFillImpute', 'n_estimators': 800, 'max_depth': 15, 'min_child_weight': 1, 'lr': 0.0027672315930411906}<br>Result logdir: /home/zehuan/zoo_automl_logs/automl<br>Number of trials: 40/40 (40 TERMINATED)<br><br>"
     },
     "metadata": {}
    },
    {
     "output_type": "stream",
     "name": "stderr",
     "text": [
      "2021-04-28 16:10:56,758\tINFO tune.py:450 -- Total run time: 63.02 seconds (62.89 seconds for the tuning loop).\n",
      "best log dir is  /home/zehuan/zoo_automl_logs/automl/train_func_1cd6c_00005_5_imputation=LastFillImpute,lr=0.0027672,max_depth=15,min_child_weight=1,n_estimators=800_2021-04-28_16-10-01\n",
      "The best configurations are:\n",
      "model : XGBRegressor\n",
      "imputation : LastFillImpute\n",
      "n_estimators : 800\n",
      "max_depth : 15\n",
      "min_child_weight : 1\n",
      "lr : 0.0027672315930411906\n",
      "Training completed.\n",
      "Evaluate: the square root of mean square error is  [1.052205690459954]\n"
     ]
    }
   ],
   "source": [
    "pipeline = estimator.fit(train_df,\n",
    "                             validation_df=val_df,\n",
    "                             metric=\"rmse\",\n",
    "                             recipe=recipe\n",
    "                             )\n",
    "print(\"Training completed.\")\n",
    "pred_df = pipeline.predict(val_df)\n",
    "rmse = pipeline.evaluate(val_df,metrics=[\"rmse\"])\n",
    "print(\"Evaluate: the square root of mean square error is \",rmse[0])\n"
   ]
  },
  {
   "cell_type": "code",
   "execution_count": 11,
   "id": "9d6e9933",
   "metadata": {},
   "outputs": [],
   "source": [
    "ray_ctx.stop()\n",
    "sc.stop()"
   ]
  }
 ],
 "metadata": {
  "kernelspec": {
   "display_name": "automl",
   "language": "python",
   "name": "automl"
  },
  "language_info": {
   "codemirror_mode": {
    "name": "ipython",
    "version": 3
   },
   "file_extension": ".py",
   "mimetype": "text/x-python",
   "name": "python",
   "nbconvert_exporter": "python",
   "pygments_lexer": "ipython3",
   "version": "3.6.10"
  }
 },
 "nbformat": 4,
 "nbformat_minor": 5
}